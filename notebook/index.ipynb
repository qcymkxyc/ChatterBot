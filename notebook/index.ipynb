{
 "cells": [
  {
   "cell_type": "code",
   "execution_count": 1,
   "metadata": {},
   "outputs": [],
   "source": [
    "import numpy as np\n",
    "import tensorflow as tf\n",
    "from tensorflow import keras\n",
    "import pandas as pd\n",
    "import matplotlib.pyplot as plt\n",
    "%matplotlib inline"
   ]
  },
  {
   "cell_type": "code",
   "execution_count": 2,
   "metadata": {},
   "outputs": [],
   "source": [
    "model_path = \"../model/\""
   ]
  },
  {
   "cell_type": "code",
   "execution_count": 9,
   "metadata": {
    "scrolled": true
   },
   "outputs": [],
   "source": [
    "import seq2seq_model\n",
    "from imp import reload\n",
    "reload(seq2seq_model)\n",
    "tf.contrib.eager.enable_eager_execution()\n",
    "\n",
    "x = np.random.normal(size=(100, 100, 10))\n",
    "y = np.random.normal(size=(100, 100, 10))\n",
    "z = np.random.normal(size=(100, 100, 10))\n",
    "\n",
    "input_dim = 10\n",
    "encoder_units = [10,20,30]\n",
    "decoder_units = [10,20,30]\n",
    "hidden_units = [40,40]\n",
    "batch_size = 10\n",
    "\n",
    "\n",
    "model = seq2seq_model.build_seq2seq(\n",
    "    input_dim=input_dim,\n",
    "    encoder_units=encoder_units,\n",
    "    decoder_units=decoder_units,\n",
    "    batch_size=batch_size,\n",
    "    hidden_units=hidden_units\n",
    ")\n",
    "# model.compile(optimizer=tf.train.AdamOptimizer(), loss='categorical_crossentropy')\n",
    "# model.fit([x, y], z, batch_size = 10)\n"
   ]
  },
  {
   "cell_type": "code",
   "execution_count": 10,
   "metadata": {},
   "outputs": [
    {
     "name": "stdout",
     "output_type": "stream",
     "text": [
      "__________________________________________________________________________________________________\n",
      "Layer (type)                    Output Shape         Param #     Connected to                     \n",
      "==================================================================================================\n",
      "Encoder_Input (InputLayer)      (None, None, 10)     0                                            \n",
      "__________________________________________________________________________________________________\n",
      "Decoder_Input (InputLayer)      (10, None, 10)       0                                            \n",
      "__________________________________________________________________________________________________\n",
      "Encoder_LSTM_1 (CuDNNLSTM)      [(None, None, 10), ( 880         Encoder_Input[0][0]              \n",
      "__________________________________________________________________________________________________\n",
      "Decoder_LSTM_1 (CuDNNLSTM)      [(10, None, 10), (10 880         Decoder_Input[0][0]              \n",
      "                                                                 Encoder_LSTM_1[0][1]             \n",
      "                                                                 Encoder_LSTM_1[0][2]             \n",
      "__________________________________________________________________________________________________\n",
      "Encoder_LSTM_2 (CuDNNLSTM)      [(None, None, 20), ( 2560        Encoder_LSTM_1[0][0]             \n",
      "__________________________________________________________________________________________________\n",
      "Decoder_LSTM_2 (CuDNNLSTM)      [(10, None, 20), (10 2560        Decoder_LSTM_1[0][0]             \n",
      "                                                                 Encoder_LSTM_2[0][1]             \n",
      "                                                                 Encoder_LSTM_2[0][2]             \n",
      "__________________________________________________________________________________________________\n",
      "Encoder_LSTM_3 (CuDNNLSTM)      [(None, None, 30), ( 6240        Encoder_LSTM_2[0][0]             \n",
      "__________________________________________________________________________________________________\n",
      "Decoder_LSTM_3 (CuDNNLSTM)      [(10, None, 30), (10 6240        Decoder_LSTM_2[0][0]             \n",
      "                                                                 Encoder_LSTM_3[0][1]             \n",
      "                                                                 Encoder_LSTM_3[0][2]             \n",
      "__________________________________________________________________________________________________\n",
      "Decoder_hidden_1 (Dense)        (10, None, 40)       1240        Decoder_LSTM_3[0][0]             \n",
      "__________________________________________________________________________________________________\n",
      "Decoder_hidden_2 (Dense)        (10, None, 40)       1640        Decoder_hidden_1[0][0]           \n",
      "__________________________________________________________________________________________________\n",
      "dense_4 (Dense)                 (10, None, 10)       410         Decoder_hidden_2[0][0]           \n",
      "==================================================================================================\n",
      "Total params: 22,650\n",
      "Trainable params: 22,650\n",
      "Non-trainable params: 0\n",
      "__________________________________________________________________________________________________\n"
     ]
    }
   ],
   "source": [
    "model.summary()"
   ]
  },
  {
   "cell_type": "code",
   "execution_count": 8,
   "metadata": {},
   "outputs": [
    {
     "name": "stdout",
     "output_type": "stream",
     "text": [
      "Epoch 1/1\n",
      "10/10 [==============================] - 8s 751ms/step - loss: 0.0152\n"
     ]
    },
    {
     "data": {
      "text/plain": [
       "<tensorflow.python.keras.callbacks.History at 0x1832b278>"
      ]
     },
     "execution_count": 8,
     "metadata": {},
     "output_type": "execute_result"
    }
   ],
   "source": [
    "model.compile(optimizer=tf.train.AdamOptimizer(), loss='categorical_crossentropy')\n",
    "model.fit([x, y], z, batch_size = 10)"
   ]
  }
 ],
 "metadata": {
  "kernelspec": {
   "display_name": "Python 3",
   "language": "python",
   "name": "python3"
  },
  "language_info": {
   "codemirror_mode": {
    "name": "ipython",
    "version": 3
   },
   "file_extension": ".py",
   "mimetype": "text/x-python",
   "name": "python",
   "nbconvert_exporter": "python",
   "pygments_lexer": "ipython3",
   "version": "3.6.3"
  },
  "toc": {
   "base_numbering": 1,
   "nav_menu": {},
   "number_sections": true,
   "sideBar": true,
   "skip_h1_title": false,
   "title_cell": "Table of Contents",
   "title_sidebar": "Contents",
   "toc_cell": false,
   "toc_position": {},
   "toc_section_display": true,
   "toc_window_display": true
  }
 },
 "nbformat": 4,
 "nbformat_minor": 1
}
